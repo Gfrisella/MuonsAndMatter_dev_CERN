{
 "cells": [
  {
   "cell_type": "code",
   "execution_count": 1,
   "metadata": {},
   "outputs": [],
   "source": [
    "import gzip\n",
    "import pickle\n",
    "import numpy as np\n",
    "import os\n",
    "import matplotlib.pyplot as plt\n",
    "from matplotlib.colors import LogNorm"
   ]
  },
  {
   "cell_type": "code",
   "execution_count": 2,
   "metadata": {},
   "outputs": [],
   "source": [
    "\n",
    "fontsize = 18\n",
    "def hist1d(x1,x2,xlabel:str = '',density = True, bins = 'auto'):\n",
    "    plt.figure(figsize=(8, 6))\n",
    "    #bins = np.linspace(0, max(np.max(x1),np.max(x2)), 50) if predefined_bins else 'auto'\n",
    "    n1, bins, patches = plt.hist(x1, bins=bins, density=density, histtype='step', label='Independent Geant4', color='orange', linewidth=2.5)\n",
    "    bin_centers = 0.5 * (bins[1:] + bins[:-1])\n",
    "    errors1 = np.sqrt(n1)\n",
    "    if not density: plt.errorbar(bin_centers, n1, yerr=errors1, color='orange',fmt='none')\n",
    "    n2, _, _ = plt.hist(x2, bins=bins, density=density, histtype='step', label='FairShip', color='blue')\n",
    "    errors2 = np.sqrt(n2)\n",
    "    if not density: plt.errorbar(bin_centers, n2, yerr=errors2, color='blue',fmt='none')\n",
    "    plt.xlabel(xlabel,fontsize=fontsize)\n",
    "    plt.legend(fontsize=fontsize)\n",
    "    plt.tight_layout()\n",
    "    plt.tick_params(axis='both', which='major', labelsize=fontsize)  # Major ticks\n",
    "    plt.tick_params(axis='both', which='minor', labelsize=fontsize)  # Minor ticks (if needed)\n",
    "\n",
    "\n",
    "\n",
    "\n",
    "def hist2d(x, x_fs, fontsize=12):\n",
    "    fig, axes = plt.subplots(1, 2, figsize=(12, 5), sharey=True, sharex=True)\n",
    "    fig.tight_layout()\n",
    "\n",
    "    # First histogram (Enriched Sample)\n",
    "    h1, xedges, yedges, im1 = axes[0].hist2d(*x, bins=50, cmap='viridis', norm=LogNorm(), density=False)\n",
    "    axes[0].set_xlabel('$|P|$ [GeV]', fontsize=fontsize)\n",
    "    axes[0].set_ylabel('$P_t$ [GeV]', fontsize=fontsize)\n",
    "    axes[0].set_title('Enriched Sample', fontsize=fontsize)\n",
    "    cbar1 = fig.colorbar(im1, ax=axes[0], label='Density')\n",
    "\n",
    "    # Second histogram (Full Sample)\n",
    "    h2, _, _, im2 = axes[1].hist2d(*x_fs, bins=[xedges, yedges], cmap='viridis', norm=LogNorm(), density=False)\n",
    "    axes[1].set_xlabel('$|P|$ [GeV]', fontsize=fontsize)\n",
    "    axes[1].set_title('Full Sample', fontsize=fontsize)\n",
    "    cbar2 = fig.colorbar(im2, ax=axes[1], label='Density')\n",
    "\n",
    "    # Adjust tick parameters\n",
    "    for ax in axes:\n",
    "        ax.tick_params(axis='both', which='major', labelsize=fontsize)\n",
    "        ax.tick_params(axis='both', which='minor', labelsize=fontsize)\n",
    "\n",
    "    plt.show()\n",
    "\n",
    "def difference_hist1d(x1,x2,xlabel:str = '',density = True, bins = 'auto'):\n",
    "    n1, bins, patches = plt.hist(x1, bins=bins, density=density, histtype='step', label='Independent Geant4', color='orange', linewidth=2.5)\n",
    "    bin_centers = 0.5 * (bins[1:] + bins[:-1])\n",
    "    n2, _, _ = plt.hist(x2, bins=bins, density=density, histtype='step', label='FairShip', color='blue')\n",
    "    diff = n1-n2\n",
    "    plt.close()\n",
    "    bin_centers = 0.5 * (bins[:-1] + bins[1:])  # Calculate bin centers for plotting\n",
    "\n",
    "    plt.figure(figsize=(8, 6))\n",
    "    plt.bar(bin_centers, diff, width=np.diff(bins), color='blue', edgecolor='black', alpha=0.7)\n",
    "\n",
    "    plt.xlabel(xlabel,fontsize=fontsize)\n",
    "    plt.legend(fontsize=fontsize)\n",
    "    plt.tight_layout()\n",
    "    plt.tick_params(axis='both', which='major', labelsize=fontsize)  # Major ticks\n",
    "    plt.tick_params(axis='both', which='minor', labelsize=fontsize)  # Minor ticks (if needed)\n"
   ]
  },
  {
   "cell_type": "code",
   "execution_count": null,
   "metadata": {},
   "outputs": [],
   "source": [
    "def extract_number_from_string(s):\n",
    "    number_str = ''\n",
    "    for char in s:\n",
    "        if char.isdigit(): \n",
    "            number_str += char\n",
    "    return int(number_str)"
   ]
  },
  {
   "cell_type": "code",
   "execution_count": null,
   "metadata": {},
   "outputs": [],
   "source": [
    "folder = \"/home/hep/lprate/projects/MuonsAndMatter/data/outputs/optim_7\"\n",
    "data = []\n",
    "for file_name in os.listdir(folder):\n",
    "    print(file_name)\n",
    "    data.append(np.load(os.path.join(folder,file_name)))\n",
    "data = np.concatenate(data,axis=1)\n",
    "\n",
    "\n",
    "ns = [extract_number_from_string(file_name) for file_name in os.listdir(folder)]\n",
    "data_input = []\n",
    "for file_name in os.listdir('../full_sample'):\n",
    "    n_name = extract_number_from_string(file_name)\n",
    "    if n_name not in ns: continue\n",
    "    print(file_name)\n",
    "    with gzip.open(f'../full_sample/{file_name}', 'rb') as f:\n",
    "        data_input.append(pickle.load(f))\n",
    "assert len(data_input) == len(ns)\n",
    "data_input = np.concatenate(data_input)\n",
    "print(data_input.shape)"
   ]
  },
  {
   "cell_type": "code",
   "execution_count": null,
   "metadata": {},
   "outputs": [],
   "source": []
  },
  {
   "cell_type": "code",
   "execution_count": 4,
   "metadata": {},
   "outputs": [
    {
     "data": {
      "text/plain": [
       "75"
      ]
     },
     "execution_count": 4,
     "metadata": {},
     "output_type": "execute_result"
    }
   ],
   "source": [
    "len(data)"
   ]
  },
  {
   "cell_type": "code",
   "execution_count": null,
   "metadata": {},
   "outputs": [],
   "source": [
    "p_init = []\n",
    "pt_init = []\n",
    "for i in data:\n",
    "    p = i['px'][0]**2 + i['py'][0]**2 + i['pz'][0]**2\n",
    "    p = np.sqrt(p)\n",
    "    pt = i['px'][0]**2 + i['py'][0]**2\n",
    "    pt = np.sqrt(pt)\n",
    "    p_init.append(p)\n",
    "    pt_init.append(pt)"
   ]
  },
  {
   "cell_type": "code",
   "execution_count": 5,
   "metadata": {},
   "outputs": [
    {
     "ename": "NameError",
     "evalue": "name 'pt_init' is not defined",
     "output_type": "error",
     "traceback": [
      "\u001b[0;31m---------------------------------------------------------------------------\u001b[0m",
      "\u001b[0;31mNameError\u001b[0m                                 Traceback (most recent call last)",
      "Cell \u001b[0;32mIn[5], line 1\u001b[0m\n\u001b[0;32m----> 1\u001b[0m plt\u001b[38;5;241m.\u001b[39mhist(\u001b[43mpt_init\u001b[49m, bins\u001b[38;5;241m=\u001b[39m\u001b[38;5;124m'\u001b[39m\u001b[38;5;124mauto\u001b[39m\u001b[38;5;124m'\u001b[39m, histtype\u001b[38;5;241m=\u001b[39m\u001b[38;5;124m'\u001b[39m\u001b[38;5;124mstep\u001b[39m\u001b[38;5;124m'\u001b[39m, log\u001b[38;5;241m=\u001b[39m\u001b[38;5;28;01mTrue\u001b[39;00m, label\u001b[38;5;241m=\u001b[39m\u001b[38;5;124m'\u001b[39m\u001b[38;5;124mPt\u001b[39m\u001b[38;5;124m'\u001b[39m)\n\u001b[1;32m      2\u001b[0m plt\u001b[38;5;241m.\u001b[39mhist(p_init, bins\u001b[38;5;241m=\u001b[39m\u001b[38;5;124m'\u001b[39m\u001b[38;5;124mauto\u001b[39m\u001b[38;5;124m'\u001b[39m, histtype\u001b[38;5;241m=\u001b[39m\u001b[38;5;124m'\u001b[39m\u001b[38;5;124mstep\u001b[39m\u001b[38;5;124m'\u001b[39m, log\u001b[38;5;241m=\u001b[39m\u001b[38;5;28;01mTrue\u001b[39;00m, label \u001b[38;5;241m=\u001b[39m \u001b[38;5;124m'\u001b[39m\u001b[38;5;124mP\u001b[39m\u001b[38;5;124m'\u001b[39m)\n\u001b[1;32m      3\u001b[0m plt\u001b[38;5;241m.\u001b[39mlegend()\n",
      "\u001b[0;31mNameError\u001b[0m: name 'pt_init' is not defined"
     ]
    }
   ],
   "source": [
    "plt.hist(pt_init, bins='auto', histtype='step', log=True, label='Pt')\n",
    "plt.hist(p_init, bins='auto', histtype='step', log=True, label = 'P')\n",
    "plt.legend()\n",
    "plt.show()"
   ]
  },
  {
   "cell_type": "code",
   "execution_count": null,
   "metadata": {},
   "outputs": [],
   "source": [
    "plt.hist(p_init, bins='auto', histtype='step')\n",
    "plt.show()"
   ]
  },
  {
   "cell_type": "code",
   "execution_count": 6,
   "metadata": {},
   "outputs": [
    {
     "ename": "ValueError",
     "evalue": "too many values to unpack (expected 8)",
     "output_type": "error",
     "traceback": [
      "\u001b[0;31m---------------------------------------------------------------------------\u001b[0m",
      "\u001b[0;31mValueError\u001b[0m                                Traceback (most recent call last)",
      "Cell \u001b[0;32mIn[6], line 1\u001b[0m\n\u001b[0;32m----> 1\u001b[0m px,py,pz,x,y,z,pdg,W \u001b[38;5;241m=\u001b[39m data\n\u001b[1;32m      2\u001b[0m pt \u001b[38;5;241m=\u001b[39m np\u001b[38;5;241m.\u001b[39msqrt(px\u001b[38;5;241m*\u001b[39m\u001b[38;5;241m*\u001b[39m\u001b[38;5;241m2\u001b[39m\u001b[38;5;241m+\u001b[39mpy\u001b[38;5;241m*\u001b[39m\u001b[38;5;241m*\u001b[39m\u001b[38;5;241m2\u001b[39m)\n\u001b[1;32m      3\u001b[0m p \u001b[38;5;241m=\u001b[39m np\u001b[38;5;241m.\u001b[39msqrt(px\u001b[38;5;241m*\u001b[39m\u001b[38;5;241m*\u001b[39m\u001b[38;5;241m2\u001b[39m\u001b[38;5;241m+\u001b[39mpy\u001b[38;5;241m*\u001b[39m\u001b[38;5;241m*\u001b[39m\u001b[38;5;241m2\u001b[39m\u001b[38;5;241m+\u001b[39mpz\u001b[38;5;241m*\u001b[39m\u001b[38;5;241m*\u001b[39m\u001b[38;5;241m2\u001b[39m)\n",
      "\u001b[0;31mValueError\u001b[0m: too many values to unpack (expected 8)"
     ]
    }
   ],
   "source": [
    "px,py,pz,x,y,z,pdg,W = data\n",
    "pt = np.sqrt(px**2+py**2)\n",
    "p = np.sqrt(px**2+py**2+pz**2)\n",
    "\n",
    "sens_plane = (np.abs(x)<2) & (np.abs(y)<3) & (np.abs(pdg)==13)\n",
    "px_sens, py_sens, pz_sens, x_sens, y_sens, z_sens, pdg_sens, W_sens = px[sens_plane], py[sens_plane], pz[sens_plane], x[sens_plane], y[sens_plane], z[sens_plane], pdg[sens_plane], W[sens_plane]\n",
    "pt_sens = np.sqrt(px_sens**2+py_sens**2)\n",
    "p_sens = np.sqrt(px_sens**2+py_sens**2+pz_sens**2)"
   ]
  },
  {
   "cell_type": "code",
   "execution_count": null,
   "metadata": {},
   "outputs": [],
   "source": [
    "W_sens.sum()"
   ]
  },
  {
   "cell_type": "code",
   "execution_count": null,
   "metadata": {},
   "outputs": [],
   "source": [
    "def project(x,y,px,py,pz,dist):\n",
    "    return x+px*dist/pz, y+py*dist/pz\n",
    "x_projected, y_projected = project(x_sens,y_sens,px_sens,py_sens,pz_sens,10)\n",
    "mask_t4 = (x_projected>-2) & (x_projected<2) & (y_projected>-3) & (y_projected<3)\n",
    "W_projected = W_sens[mask_t4]\n",
    "p_projected = p_sens[mask_t4]"
   ]
  },
  {
   "cell_type": "code",
   "execution_count": null,
   "metadata": {},
   "outputs": [],
   "source": [
    "inputs = data_input[:,-1].sum()\n",
    "print('inputs:', inputs)\n",
    "total_inputs = 18E9\n",
    "hits = W_sens.sum()\n",
    "hits_filter = W_sens[p_sens>5].sum()\n",
    "hits_t4 = (W_projected).sum()\n",
    "rate = hits/inputs\n",
    "rate_filter = hits_filter/inputs\n",
    "rate_t4 = hits_t4/inputs\n",
    "\n",
    "print(f'rate without weights: {len(W_sens)/len(data_input)}, p>5: {len(W_sens[p_sens>5])/len(data_input)}')\n",
    "print(f\"Total hits: {hits}, hits with p>5: {hits_filter}\")\n",
    "print(f\"Rate: {rate}, rate with p>5: {rate_filter}\")\n",
    "print(f\"Rate T4: {rate_t4}\")\n"
   ]
  },
  {
   "cell_type": "code",
   "execution_count": null,
   "metadata": {},
   "outputs": [],
   "source": [
    "print(f\"Rate T1: {rate*total_inputs}, rate T1 with p>5: {rate_filter*total_inputs}, rate T4: {rate_t4*total_inputs}\")"
   ]
  },
  {
   "cell_type": "code",
   "execution_count": null,
   "metadata": {},
   "outputs": [],
   "source": [
    "plt.figure(figsize=(10, 8))\n",
    "plt.hist2d(x, y, bins=100, weights=W, cmap='viridis', norm=LogNorm())\n",
    "plt.colorbar(label='Weighted Hits')\n",
    "plt.plot([-2, 2, 2, -2, -2], [-3, -3, 3, 3, -3], color='red', linestyle='--')\n",
    "plt.xlabel('x')\n",
    "plt.ylabel('y')\n",
    "plt.title('2D Histogram of Hits Weighted by W')\n",
    "plt.show()"
   ]
  },
  {
   "cell_type": "code",
   "execution_count": null,
   "metadata": {},
   "outputs": [],
   "source": [
    "plt.figure(figsize=(10, 8))\n",
    "plt.scatter(x[(np.abs(pdg)==13)], y[(np.abs(pdg)==13)], s = 0.5, c=p[(np.abs(pdg)==13)], cmap='viridis')\n",
    "plt.colorbar(label='Momentum of hits')\n",
    "plt.plot([-2, 2, 2, -2, -2], [-3, -3, 3, 3, -3], color='red', linestyle='--')\n",
    "plt.xlabel('x')\n",
    "plt.ylabel('y')\n",
    "plt.show()"
   ]
  },
  {
   "cell_type": "code",
   "execution_count": null,
   "metadata": {},
   "outputs": [],
   "source": [
    "fig, axs = plt.subplots(1, 3, figsize=(18, 6))\n",
    "\n",
    "# Plot px\n",
    "axs[0].hist(px[pdg.astype(int)==13], bins=100, log=True, weights=W[pdg.astype(int)==13], label = 'Muon', histtype='step')\n",
    "axs[0].hist(px[pdg.astype(int)==-13], bins=100, log=True, weights=W[pdg.astype(int)==-13], label = 'AntiMuon', histtype='step')\n",
    "axs[0].set_xlabel('Px [GeV]', fontsize=fontsize)\n",
    "axs[0].tick_params(axis='both', which='major', labelsize=fontsize)\n",
    "axs[0].legend()\n",
    "\n",
    "# Plot py\n",
    "axs[1].hist(py[pdg.astype(int)==13], bins=100, log=True, weights=W[pdg.astype(int)==13], histtype='step')\n",
    "axs[1].hist(py[pdg.astype(int)==-13], bins=100, log=True, weights=W[pdg.astype(int)==-13], histtype='step')\n",
    "axs[1].set_xlabel('Py [GeV]', fontsize=fontsize)\n",
    "axs[1].tick_params(axis='both', which='major', labelsize=fontsize)\n",
    "\n",
    "# Plot pz\n",
    "axs[2].hist(pz[pdg.astype(int)==13], bins=100, log=True, weights=W[pdg.astype(int)==13], histtype='step')\n",
    "axs[2].hist(pz[pdg.astype(int)==-13], bins=100, log=True, weights=W[pdg.astype(int)==-13], histtype='step')\n",
    "axs[2].set_xlabel('Pz [GeV]', fontsize=fontsize)\n",
    "axs[2].tick_params(axis='both', which='major', labelsize=fontsize)\n",
    "\n",
    "plt.tight_layout()\n",
    "\n"
   ]
  },
  {
   "cell_type": "code",
   "execution_count": null,
   "metadata": {},
   "outputs": [],
   "source": [
    "plt.hist(p_sens, bins=100,  label='All hits', log = True, weights= W_sens)\n",
    "plt.axvline(5, color='red', linestyle='--')\n",
    "plt.xlabel('Momentum [GeV]')"
   ]
  }
 ],
 "metadata": {
  "kernelspec": {
   "display_name": "Python 3",
   "language": "python",
   "name": "python3"
  },
  "language_info": {
   "codemirror_mode": {
    "name": "ipython",
    "version": 3
   },
   "file_extension": ".py",
   "mimetype": "text/x-python",
   "name": "python",
   "nbconvert_exporter": "python",
   "pygments_lexer": "ipython3",
   "version": "3.12.2"
  }
 },
 "nbformat": 4,
 "nbformat_minor": 2
}
